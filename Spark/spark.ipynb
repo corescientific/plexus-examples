{
 "cells": [
  {
   "cell_type": "code",
   "execution_count": 1,
   "metadata": {
    "execution": {
     "iopub.execute_input": "2020-12-18T17:58:44.242424Z",
     "iopub.status.busy": "2020-12-18T17:58:44.242154Z",
     "iopub.status.idle": "2020-12-18T17:58:44.248828Z",
     "shell.execute_reply": "2020-12-18T17:58:44.248416Z",
     "shell.execute_reply.started": "2020-12-18T17:58:44.242399Z"
    }
   },
   "outputs": [],
   "source": [
    "from pyspark import SparkContext"
   ]
  },
  {
   "cell_type": "code",
   "execution_count": 2,
   "metadata": {
    "execution": {
     "iopub.execute_input": "2020-12-18T19:03:00.445935Z",
     "iopub.status.busy": "2020-12-18T19:03:00.445660Z",
     "iopub.status.idle": "2020-12-18T19:03:00.448528Z",
     "shell.execute_reply": "2020-12-18T19:03:00.448126Z",
     "shell.execute_reply.started": "2020-12-18T19:03:00.445908Z"
    }
   },
   "outputs": [],
   "source": [
    "#if you're running in your home lab, create your own configuration\n",
    "from pyspark import SparkConf\n",
    "conf = SparkConf()\n",
    "\n",
    "#if not, you don't need to run this cell "
   ]
  },
  {
   "cell_type": "code",
   "execution_count": 3,
   "metadata": {
    "execution": {
     "iopub.execute_input": "2020-12-18T17:59:48.678832Z",
     "iopub.status.busy": "2020-12-18T17:59:48.678571Z",
     "iopub.status.idle": "2020-12-18T17:59:51.420594Z",
     "shell.execute_reply": "2020-12-18T17:59:51.420032Z",
     "shell.execute_reply.started": "2020-12-18T17:59:48.678809Z"
    }
   },
   "outputs": [],
   "source": [
    "#add spark configuration to conf object\n",
    "conf = (conf\n",
    "        .setMaster(\"spark://100.69.6.183:7077\")\n",
    "        .set(\"spark.driver.host\", \"100.69.6.183\")\n",
    "        .set(\"spark.rapids.sql.concurrentGpuTasks\", \"1\") \n",
    "        .set(\"spark.executor.resource.gpu.amount\", \"1\")\n",
    "        .set(\"spark.driver.memory\", \"2G\")\n",
    "        .set(\"spark.executor.memory\", \"4G\")\n",
    "        .set(\"spark.executor.cores\", \"1\")\n",
    "        .set(\"spark.task.cpus\", \"1\")\n",
    "        .set(\"spark.task.resource.gpu.amount\", \"1\")\n",
    "        .set(\"spark.rapids.memory.pinnedPool.size\", \"2G\")\n",
    "        .set(\"spark.locality.wait\", \"0s\")\n",
    "        .set(\"spark.sql.files.maxPartitionBytes\", \"512m\")\n",
    "        .set(\"spark.sql.shuffle.partitions\", \"10\")\n",
    "        .set(\"spark.plugins\", \"com.nvidia.spark.SQLPlugin\")\n",
    "       )\n",
    "\n",
    "#create spark context\n",
    "sc=SparkContext.getOrCreate(conf=conf)"
   ]
  },
  {
   "cell_type": "code",
   "execution_count": 4,
   "metadata": {
    "execution": {
     "iopub.execute_input": "2020-12-18T17:59:57.230614Z",
     "iopub.status.busy": "2020-12-18T17:59:57.230358Z",
     "iopub.status.idle": "2020-12-18T17:59:57.490413Z",
     "shell.execute_reply": "2020-12-18T17:59:57.489841Z",
     "shell.execute_reply.started": "2020-12-18T17:59:57.230589Z"
    }
   },
   "outputs": [],
   "source": [
    "rdd = sc.parallelize(range(0,100))\n",
    "rdd.count()"
   ]
  }
 ],
 "metadata": {
  "kernelspec": {
   "display_name": "Python 3",
   "language": "python",
   "name": "python3"
  },
  "language_info": {
   "codemirror_mode": {
    "name": "ipython",
    "version": 3
   },
   "file_extension": ".py",
   "mimetype": "text/x-python",
   "name": "python",
   "nbconvert_exporter": "python",
   "pygments_lexer": "ipython3",
   "version": "3.6.9"
  }
 },
 "nbformat": 4,
 "nbformat_minor": 4
}
