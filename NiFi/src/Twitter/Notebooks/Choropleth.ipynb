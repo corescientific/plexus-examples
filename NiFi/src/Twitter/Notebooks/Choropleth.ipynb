{
 "cells": [
  {
   "cell_type": "code",
   "execution_count": 1,
   "metadata": {},
   "outputs": [],
   "source": [
    "import plotly.io as pio\n",
    "from urllib.request import urlopen\n",
    "import json\n",
    "from sqlalchemy import create_engine\n",
    "import psycopg2\n",
    "import plotly.express as px\n",
    "import pandas as pd"
   ]
  },
  {
   "cell_type": "markdown",
   "metadata": {},
   "source": [
    "# Chloropleth Example"
   ]
  },
  {
   "cell_type": "code",
   "execution_count": 2,
   "metadata": {},
   "outputs": [],
   "source": [
    "with urlopen('https://raw.githubusercontent.com/plotly/datasets/master/geojson-counties-fips.json') as response:\n",
    "    counties = json.load(response)\n",
    "\n",
    "\n",
    "df = pd.read_csv(\"https://raw.githubusercontent.com/plotly/datasets/master/fips-unemp-16.csv\",\n",
    "                   dtype={\"fips\": str})\n",
    "\n",
    "\n",
    "\n",
    "fig = px.choropleth_mapbox(df, geojson=counties, locations='fips', color='unemp',\n",
    "                           color_continuous_scale=\"Viridis\",\n",
    "                           range_color=(0, 12),\n",
    "                           mapbox_style=\"carto-positron\",\n",
    "                           zoom=3, center = {\"lat\": 37.0902, \"lon\": -95.7129},\n",
    "                           opacity=0.5,\n",
    "                           labels={'unemp':'unemployment rate'}\n",
    "                          )\n",
    "\n",
    "pio.write_json(fig, '/home/acc/output/chloro.plotly')"
   ]
  },
  {
   "cell_type": "code",
   "execution_count": 3,
   "metadata": {},
   "outputs": [],
   "source": [
    "# Create HTML"
   ]
  },
  {
   "cell_type": "code",
   "execution_count": 4,
   "metadata": {},
   "outputs": [],
   "source": [
    "with open('/home/acc/output/chloro.html', 'w') as writer:\n",
    "        writer.write(fig.update_layout(margin={\"r\":0,\"t\":0,\"l\":0,\"b\":0}).to_html())"
   ]
  },
  {
   "cell_type": "markdown",
   "metadata": {},
   "source": [
    "# Scatter Plot Example"
   ]
  },
  {
   "cell_type": "code",
   "execution_count": 5,
   "metadata": {},
   "outputs": [
    {
     "data": {
      "text/html": [
       "<div>\n",
       "<style scoped>\n",
       "    .dataframe tbody tr th:only-of-type {\n",
       "        vertical-align: middle;\n",
       "    }\n",
       "\n",
       "    .dataframe tbody tr th {\n",
       "        vertical-align: top;\n",
       "    }\n",
       "\n",
       "    .dataframe thead th {\n",
       "        text-align: right;\n",
       "    }\n",
       "</style>\n",
       "<table border=\"1\" class=\"dataframe\">\n",
       "  <thead>\n",
       "    <tr style=\"text-align: right;\">\n",
       "      <th></th>\n",
       "      <th>Unnamed: 0</th>\n",
       "      <th>X</th>\n",
       "      <th>Y</th>\n",
       "      <th>OBJECTID</th>\n",
       "      <th>OID</th>\n",
       "      <th>POLE_NUM</th>\n",
       "      <th>TYPE</th>\n",
       "      <th>NLUMIN</th>\n",
       "      <th>LUM_SIZE</th>\n",
       "      <th>HEIGHT</th>\n",
       "      <th>POLE_DATE</th>\n",
       "      <th>UP_DATE</th>\n",
       "      <th>OWNER</th>\n",
       "      <th>TAP_ID</th>\n",
       "      <th>BLOCK</th>\n",
       "      <th>PLATE</th>\n",
       "    </tr>\n",
       "  </thead>\n",
       "  <tbody>\n",
       "    <tr>\n",
       "      <th>0</th>\n",
       "      <td>423</td>\n",
       "      <td>-75.170097</td>\n",
       "      <td>39.942766</td>\n",
       "      <td>41341</td>\n",
       "      <td>0</td>\n",
       "      <td>214423</td>\n",
       "      <td>WP</td>\n",
       "      <td>NaN</td>\n",
       "      <td>NaN</td>\n",
       "      <td>NaN</td>\n",
       "      <td>1997-06-09T00:00:00.000Z</td>\n",
       "      <td>1997-06-09T00:00:00.000Z</td>\n",
       "      <td>PECO</td>\n",
       "      <td>0.0</td>\n",
       "      <td>NaN</td>\n",
       "      <td>NaN</td>\n",
       "    </tr>\n",
       "    <tr>\n",
       "      <th>1</th>\n",
       "      <td>85</td>\n",
       "      <td>-75.166112</td>\n",
       "      <td>39.941477</td>\n",
       "      <td>42523</td>\n",
       "      <td>0</td>\n",
       "      <td>215645</td>\n",
       "      <td>AAPT</td>\n",
       "      <td>2.0</td>\n",
       "      <td>250.0</td>\n",
       "      <td>25.0</td>\n",
       "      <td>1997-06-10T00:00:00.000Z</td>\n",
       "      <td>1997-06-10T00:00:00.000Z</td>\n",
       "      <td>Streets</td>\n",
       "      <td>214622.0</td>\n",
       "      <td>NaN</td>\n",
       "      <td>NaN</td>\n",
       "    </tr>\n",
       "    <tr>\n",
       "      <th>2</th>\n",
       "      <td>121</td>\n",
       "      <td>-75.163483</td>\n",
       "      <td>39.943068</td>\n",
       "      <td>42730</td>\n",
       "      <td>0</td>\n",
       "      <td>215926</td>\n",
       "      <td>WP</td>\n",
       "      <td>NaN</td>\n",
       "      <td>NaN</td>\n",
       "      <td>NaN</td>\n",
       "      <td>1997-06-04T00:00:00.000Z</td>\n",
       "      <td>1997-06-04T00:00:00.000Z</td>\n",
       "      <td>PECO</td>\n",
       "      <td>0.0</td>\n",
       "      <td>NaN</td>\n",
       "      <td>NaN</td>\n",
       "    </tr>\n",
       "    <tr>\n",
       "      <th>3</th>\n",
       "      <td>478</td>\n",
       "      <td>-75.167727</td>\n",
       "      <td>39.944528</td>\n",
       "      <td>41409</td>\n",
       "      <td>0</td>\n",
       "      <td>214515</td>\n",
       "      <td>WP</td>\n",
       "      <td>1.0</td>\n",
       "      <td>100.0</td>\n",
       "      <td>25.0</td>\n",
       "      <td>1997-06-09T00:00:00.000Z</td>\n",
       "      <td>1997-06-09T00:00:00.000Z</td>\n",
       "      <td>Streets</td>\n",
       "      <td>214515.0</td>\n",
       "      <td>NaN</td>\n",
       "      <td>NaN</td>\n",
       "    </tr>\n",
       "    <tr>\n",
       "      <th>4</th>\n",
       "      <td>392</td>\n",
       "      <td>-75.171863</td>\n",
       "      <td>39.941486</td>\n",
       "      <td>41298</td>\n",
       "      <td>0</td>\n",
       "      <td>214380</td>\n",
       "      <td>WP</td>\n",
       "      <td>1.0</td>\n",
       "      <td>100.0</td>\n",
       "      <td>25.0</td>\n",
       "      <td>1997-06-09T00:00:00.000Z</td>\n",
       "      <td>1997-06-09T00:00:00.000Z</td>\n",
       "      <td>Streets</td>\n",
       "      <td>214380.0</td>\n",
       "      <td>NaN</td>\n",
       "      <td>NaN</td>\n",
       "    </tr>\n",
       "  </tbody>\n",
       "</table>\n",
       "</div>"
      ],
      "text/plain": [
       "   Unnamed: 0          X          Y  OBJECTID  OID  POLE_NUM  TYPE  NLUMIN  \\\n",
       "0         423 -75.170097  39.942766     41341    0    214423    WP     NaN   \n",
       "1          85 -75.166112  39.941477     42523    0    215645  AAPT     2.0   \n",
       "2         121 -75.163483  39.943068     42730    0    215926    WP     NaN   \n",
       "3         478 -75.167727  39.944528     41409    0    214515    WP     1.0   \n",
       "4         392 -75.171863  39.941486     41298    0    214380    WP     1.0   \n",
       "\n",
       "   LUM_SIZE  HEIGHT                 POLE_DATE                   UP_DATE  \\\n",
       "0       NaN     NaN  1997-06-09T00:00:00.000Z  1997-06-09T00:00:00.000Z   \n",
       "1     250.0    25.0  1997-06-10T00:00:00.000Z  1997-06-10T00:00:00.000Z   \n",
       "2       NaN     NaN  1997-06-04T00:00:00.000Z  1997-06-04T00:00:00.000Z   \n",
       "3     100.0    25.0  1997-06-09T00:00:00.000Z  1997-06-09T00:00:00.000Z   \n",
       "4     100.0    25.0  1997-06-09T00:00:00.000Z  1997-06-09T00:00:00.000Z   \n",
       "\n",
       "     OWNER    TAP_ID BLOCK PLATE  \n",
       "0     PECO       0.0   NaN   NaN  \n",
       "1  Streets  214622.0   NaN   NaN  \n",
       "2     PECO       0.0   NaN   NaN  \n",
       "3  Streets  214515.0   NaN   NaN  \n",
       "4  Streets  214380.0   NaN   NaN  "
      ]
     },
     "execution_count": 5,
     "metadata": {},
     "output_type": "execute_result"
    }
   ],
   "source": [
    "url = \"https://www.dropbox.com/s/15gisj8hx218rn1/street-pole-sample.csv?dl=1\"\n",
    "df = pd.read_csv(url)\n",
    "df.head()"
   ]
  },
  {
   "cell_type": "code",
   "execution_count": 6,
   "metadata": {},
   "outputs": [],
   "source": [
    "df['TEXT'] = 'hi'"
   ]
  },
  {
   "cell_type": "code",
   "execution_count": 7,
   "metadata": {},
   "outputs": [],
   "source": [
    "fig = px.scatter_mapbox(df, lat=\"Y\", lon=\"X\", hover_data=[\"TEXT\"], mapbox_style=\"carto-positron\", zoom=15)\n",
    "with open('/home/acc/output/scatter.html', 'w') as writer:\n",
    "        writer.write(fig.to_html())"
   ]
  },
  {
   "cell_type": "code",
   "execution_count": 8,
   "metadata": {},
   "outputs": [],
   "source": [
    "pio.write_json(fig, '/home/acc/output/scatter.plotly')"
   ]
  },
  {
   "cell_type": "markdown",
   "metadata": {},
   "source": [
    "# Twitter Example"
   ]
  },
  {
   "cell_type": "code",
   "execution_count": 51,
   "metadata": {},
   "outputs": [],
   "source": [
    "# sql = '''select text, lat, lon, full_name, sentiment  from tweets_transform where lower(text) like '%{0}%';'''.format('biden')\n",
    "sql = '''select text, lat, lon, full_name, sentiment  from tweets_transform'''\n",
    "conn = psycopg2.connect(\"dbname='twitter' user='postgres' host='10.0.0.26' port = '5432' password='password'\")\n",
    "cur = conn.cursor()\n",
    "cur.execute(sql)\n",
    "df = pd.DataFrame(cur.fetchall())\n",
    "df.columns = ['text', 'lat', 'lon', 'full_name', 'sentiment']\n",
    "df['sentiment'] = (df['sentiment'] - 5)/10\n",
    "df = df.dropna()\n",
    "df.lat = df.lat.astype('float')\n",
    "df.lon = df.lon.astype('float')"
   ]
  },
  {
   "cell_type": "code",
   "execution_count": 52,
   "metadata": {},
   "outputs": [],
   "source": [
    "DF = df.groupby('full_name').mean()\n",
    "DF['n'] = df.groupby('full_name').count()['sentiment'].values\n",
    "DF = DF.sort_values('n', ascending = False).reset_index()\n",
    "DF = DF[DF['n'] > 100]"
   ]
  },
  {
   "cell_type": "code",
   "execution_count": 55,
   "metadata": {},
   "outputs": [],
   "source": [
    "fig = px.scatter_mapbox(DF, lat=\"lat\", lon=\"lon\",  hover_data=[\"full_name\"], mapbox_style=\"carto-positron\", color=\"sentiment\", size = \"n\", zoom = 3.5, opacity = .5)\n",
    "with open('/home/acc/output/tweet1.html', 'w') as writer:\n",
    "        writer.write(fig.to_html())"
   ]
  },
  {
   "cell_type": "code",
   "execution_count": 56,
   "metadata": {},
   "outputs": [],
   "source": [
    "pio.write_json(fig, '/home/acc/output/tweet1.plotly')"
   ]
  },
  {
   "cell_type": "code",
   "execution_count": 57,
   "metadata": {},
   "outputs": [],
   "source": [
    "fig = px.scatter_mapbox(df, lat=\"lat\", lon=\"lon\",  hover_data=[\"text\", \"full_name\", \"sentiment\"], mapbox_style=\"carto-positron\", color=\"sentiment\", zoom = 3.5, opacity = 1)\n",
    "with open('/home/acc/output/tweet2.html', 'w') as writer:\n",
    "        writer.write(fig.to_html())"
   ]
  },
  {
   "cell_type": "code",
   "execution_count": 58,
   "metadata": {},
   "outputs": [],
   "source": [
    "pio.write_json(fig, '/home/acc/output/tweet2.plotly')"
   ]
  },
  {
   "cell_type": "code",
   "execution_count": null,
   "metadata": {},
   "outputs": [],
   "source": []
  }
 ],
 "metadata": {
  "kernelspec": {
   "display_name": "Python 3",
   "language": "python",
   "name": "python3"
  },
  "language_info": {
   "codemirror_mode": {
    "name": "ipython",
    "version": 3
   },
   "file_extension": ".py",
   "mimetype": "text/x-python",
   "name": "python",
   "nbconvert_exporter": "python",
   "pygments_lexer": "ipython3",
   "version": "3.7.8"
  }
 },
 "nbformat": 4,
 "nbformat_minor": 4
}
