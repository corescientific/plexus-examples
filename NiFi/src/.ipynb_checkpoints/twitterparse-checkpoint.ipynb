{
 "cells": [
  {
   "cell_type": "code",
   "execution_count": 58,
   "metadata": {},
   "outputs": [],
   "source": [
    "import json\n",
    "from datetime import datetime\n",
    "\n",
    "data = \"\"\"{\n",
    "  \"coord\" : \"[[[-80.147162,25.761308],[-80.147162,25.872623],[-80.118763,25.872623],[-80.118763,25.761308]]]\",\n",
    "  \"full_name\" : \"Miami Beach, FL\",\n",
    "  \"created_at\" : \"Tue Mar 16 19:54:41 +0000 2021\",\n",
    "  \"text\" : \"@NickMeshPhoto #HappyHumpDay Nickkkkkk!!!!!! How are you buddy ? It’s been so long !!! #HHD\"\n",
    "}\"\"\"\n",
    "\n",
    "\n",
    "data = json.loads(data)\n",
    "\n",
    "data['lat'] = eval(data['coord'])[0][0][1]\n",
    "data['lon'] = eval(data['coord'])[0][0][0]\n",
    "data['created_at'] = datetime.strptime(t, \"%a %b %d %H:%M:%S +0000 %Y\").strftime('%Y-%m-%d %H:%M:%S')\n",
    "_ = data.pop('coord')"
   ]
  },
  {
   "cell_type": "code",
   "execution_count": 62,
   "metadata": {},
   "outputs": [
    {
     "data": {
      "text/plain": [
       "{'full_name': 'Miami Beach, FL',\n",
       " 'created_at': '2021-03-16 19:54:41',\n",
       " 'text': '@NickMeshPhoto #HappyHumpDay Nickkkkkk!!!!!! How are you buddy ? It’s been so long !!! #HHD',\n",
       " 'lat': 25.761308,\n",
       " 'lon': -80.147162}"
      ]
     },
     "execution_count": 62,
     "metadata": {},
     "output_type": "execute_result"
    }
   ],
   "source": [
    "data"
   ]
  },
  {
   "cell_type": "code",
   "execution_count": 2,
   "metadata": {},
   "outputs": [
    {
     "ename": "SyntaxError",
     "evalue": "invalid syntax (<ipython-input-2-2aa7cbc5897c>, line 16)",
     "output_type": "error",
     "traceback": [
      "\u001b[0;36m  File \u001b[0;32m\"<ipython-input-2-2aa7cbc5897c>\"\u001b[0;36m, line \u001b[0;32m16\u001b[0m\n\u001b[0;31m    if(errorOccurred) {\u001b[0m\n\u001b[0m                      ^\u001b[0m\n\u001b[0;31mSyntaxError\u001b[0m\u001b[0;31m:\u001b[0m invalid syntax\n"
     ]
    }
   ],
   "source": [
    "import json\n",
    "from datetime import datetime\n",
    "\n",
    "flowFile = session.get()\n",
    "if(flowFile != None):\n",
    "\n",
    "\n",
    "    data = flowFile\n",
    "    data = json.loads(data)\n",
    "\n",
    "    data['lat'] = eval(data['coord'])[0][0][1]\n",
    "    data['lon'] = eval(data['coord'])[0][0][0]\n",
    "    data['created_at'] = datetime.strptime(t, \"%a %b %d %H:%M:%S +0000 %Y\").strftime('%Y-%m-%d %H:%M:%S')\n",
    "    _ = data.pop('coord')\n",
    "\n",
    "    session.transfer(data, REL_SUCCESS)\n"
   ]
  },
  {
   "cell_type": "code",
   "execution_count": null,
   "metadata": {},
   "outputs": [],
   "source": []
  }
 ],
 "metadata": {
  "kernelspec": {
   "display_name": "Python 3",
   "language": "python",
   "name": "python3"
  },
  "language_info": {
   "codemirror_mode": {
    "name": "ipython",
    "version": 3
   },
   "file_extension": ".py",
   "mimetype": "text/x-python",
   "name": "python",
   "nbconvert_exporter": "python",
   "pygments_lexer": "ipython3",
   "version": "3.7.8"
  }
 },
 "nbformat": 4,
 "nbformat_minor": 4
}
